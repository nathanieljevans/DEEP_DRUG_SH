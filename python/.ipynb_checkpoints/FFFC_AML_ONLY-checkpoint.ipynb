{
 "cells": [
  {
   "cell_type": "markdown",
   "metadata": {},
   "source": [
    "# Model 1: Baseline \n",
    "\n",
    "This model will be built using **only** beatAML data to predict AUC. \n",
    "\n",
    "\n"
   ]
  },
  {
   "cell_type": "code",
   "execution_count": 182,
   "metadata": {},
   "outputs": [],
   "source": [
    "import torch\n",
    "import torch.nn as nn\n",
    "import torch.nn.functional as F\n",
    "import os\n",
    "import torch\n",
    "import pandas as pd\n",
    "from skimage import io, transform\n",
    "import numpy as np\n",
    "import matplotlib.pyplot as plt\n",
    "from torch.utils.data import Dataset, DataLoader\n",
    "from torchvision import transforms, utils\n",
    "import pickle\n",
    "from torch.utils import data\n",
    "from matplotlib import pyplot as plt"
   ]
  },
  {
   "cell_type": "code",
   "execution_count": null,
   "metadata": {},
   "outputs": [],
   "source": []
  },
  {
   "cell_type": "code",
   "execution_count": null,
   "metadata": {},
   "outputs": [],
   "source": []
  },
  {
   "cell_type": "markdown",
   "metadata": {},
   "source": [
    "# Define our Dataset Class "
   ]
  },
  {
   "cell_type": "code",
   "execution_count": 57,
   "metadata": {},
   "outputs": [],
   "source": [
    "class DrugExpressionDataset(Dataset): \n",
    "    '''\n",
    "    '''\n",
    "    def __init__ (self, label_dict, root_dir='../data_pytorch/tensors'): \n",
    "        '''\n",
    "        '''\n",
    "        self.index = list(label_dict.keys())\n",
    "        self.labels = label_dict\n",
    "        self.root = root_dir\n",
    "                            \n",
    "    def __len__(self):\n",
    "        '''\n",
    "        '''\n",
    "        return len(self.labels.keys())\n",
    "        \n",
    "    def __getitem__(self, index, response_type=False):\n",
    "        '''\n",
    "        '''\n",
    "        fid = self.index[index]\n",
    "        X = torch.load(f'{self.root}/{fid}.pt')\n",
    "        _id, id_type, resp_type, response = self.labels[fid]\n",
    "        \n",
    "        if response_type: \n",
    "            return X, (response, resp_type)\n",
    "        else: \n",
    "            return X, response"
   ]
  },
  {
   "cell_type": "markdown",
   "metadata": {},
   "source": [
    "# Separate data into train/test/validate "
   ]
  },
  {
   "cell_type": "code",
   "execution_count": 58,
   "metadata": {},
   "outputs": [],
   "source": [
    "train, test, val = (0.7,0.15,0.15)\n",
    "\n",
    "with open('../data_pytorch/label_dict.pkl', 'rb') as f: \n",
    "    label_dict = pickle.load(f)\n",
    "\n",
    "label_dict2 = dict()\n",
    "for fid in label_dict: \n",
    "    _id, id_type, resp_type, response = label_dict[fid]\n",
    "    \n",
    "    if resp_type not in label_dict2: \n",
    "        label_dict2[resp_type] = dict()\n",
    "        \n",
    "    p = np.random.rand()\n",
    "    if (p < train): # add to training set \n",
    "        if 'train' in label_dict2[resp_type]: \n",
    "            label_dict2[resp_type]['train'][fid] = (_id, id_type, resp_type, response)\n",
    "        else:\n",
    "            label_dict2[resp_type]['train'] = {fid:(_id, id_type, resp_type, response)}\n",
    "\n",
    "    elif (p < train+test): # add to test set \n",
    "        if 'test' in label_dict2[resp_type]: \n",
    "            label_dict2[resp_type]['test'][fid] = (_id, id_type, resp_type, response)\n",
    "        else:\n",
    "            label_dict2[resp_type]['test'] = {fid:(_id, id_type, resp_type, response)}\n",
    "    else: # add to validation set \n",
    "        if 'val' in label_dict2[resp_type]: \n",
    "            label_dict2[resp_type]['val'][fid] = (_id, id_type, resp_type, response)\n",
    "        else:\n",
    "            label_dict2[resp_type]['val'] = {fid:(_id, id_type, resp_type, response)}            \n",
    "    \n",
    "    \n"
   ]
  },
  {
   "cell_type": "code",
   "execution_count": 59,
   "metadata": {},
   "outputs": [
    {
     "data": {
      "text/plain": [
       "dict_keys(['RNAi_dependency', 'crispr_dependency', 'pooled_drugresp_prism', 'AUC_GDSC', 'CTRP_AUC', 'AUC_drug_CCLE', 'beatAML_AUC'])"
      ]
     },
     "execution_count": 59,
     "metadata": {},
     "output_type": "execute_result"
    }
   ],
   "source": [
    "label_dict2.keys()"
   ]
  },
  {
   "cell_type": "code",
   "execution_count": 60,
   "metadata": {},
   "outputs": [
    {
     "name": "stdout",
     "output_type": "stream",
     "text": [
      "set sizes: RNAi_dependency      \t-> test  \t-> 46933\n",
      "set sizes: RNAi_dependency      \t-> train  \t-> 217570\n",
      "set sizes: RNAi_dependency      \t-> val  \t-> 46692\n",
      "set sizes: crispr_dependency    \t-> train  \t-> 219409\n",
      "set sizes: crispr_dependency    \t-> test  \t-> 46682\n",
      "set sizes: crispr_dependency    \t-> val  \t-> 46885\n",
      "set sizes: pooled_drugresp_prism \t-> val  \t-> 23217\n",
      "set sizes: pooled_drugresp_prism \t-> train  \t-> 107985\n",
      "set sizes: pooled_drugresp_prism \t-> test  \t-> 22991\n",
      "set sizes: AUC_GDSC             \t-> test  \t-> 3645\n",
      "set sizes: AUC_GDSC             \t-> train  \t-> 16882\n",
      "set sizes: AUC_GDSC             \t-> val  \t-> 3621\n",
      "set sizes: CTRP_AUC             \t-> train  \t-> 19615\n",
      "set sizes: CTRP_AUC             \t-> test  \t-> 4190\n",
      "set sizes: CTRP_AUC             \t-> val  \t-> 4173\n",
      "set sizes: AUC_drug_CCLE        \t-> train  \t-> 1667\n",
      "set sizes: AUC_drug_CCLE        \t-> val  \t-> 371\n",
      "set sizes: AUC_drug_CCLE        \t-> test  \t-> 342\n",
      "set sizes: beatAML_AUC          \t-> train  \t-> 1824\n",
      "set sizes: beatAML_AUC          \t-> test  \t-> 405\n",
      "set sizes: beatAML_AUC          \t-> val  \t-> 396\n"
     ]
    }
   ],
   "source": [
    "for resp_type in label_dict2:\n",
    "    for sset in label_dict2[resp_type]: \n",
    "        pp = resp_type + ' '*(20 - len(resp_type))\n",
    "        print(f'set sizes: {pp} \\t-> {sset}  \\t-> {len(label_dict2[resp_type][sset])}')"
   ]
  },
  {
   "cell_type": "markdown",
   "metadata": {},
   "source": [
    "# Defining our model architecture \n",
    "\n",
    "Going to use a straight forward 4 layer FFFC network. "
   ]
  },
  {
   "cell_type": "code",
   "execution_count": 243,
   "metadata": {},
   "outputs": [],
   "source": [
    "class Net(nn.Module):\n",
    "\n",
    "    def __init__(self, ngenes, sz=(250,100), do=0.3, nconvs = 5):\n",
    "        super(Net, self).__init__()\n",
    "        \n",
    "        H1, H2 = sz\n",
    "        \n",
    "        self.layer1 = nn.Sequential(nn.Conv2d(1, nconvs, kernel_size=(1,2), stride=1, padding=0),\n",
    "                                   nn.ReLU())\n",
    "        \n",
    "        self.do1 = torch.nn.Dropout(do)\n",
    "        self.fc1 = nn.Linear(ngenes*nconvs, H1)\n",
    "        self.bn1 = nn.BatchNorm1d(H1)\n",
    "        self.do2 = torch.nn.Dropout(do)\n",
    "        self.fc2 = nn.Linear(H1, H2)\n",
    "        self.bn2 = nn.BatchNorm1d(H2)\n",
    "        self.out = nn.Linear(H2, 1)\n",
    "\n",
    "    def forward(self, x):\n",
    "        x=x.unsqueeze(1)\n",
    "        z0 = self.layer1(x)\n",
    "        z0 = z0.reshape(z0.size(0), -1)\n",
    "        z1= self.fc1( z0 )\n",
    "        z1 = self.do1( z1 )\n",
    "        z1 = self.bn1( z1 )\n",
    "        a1 = F.relu( z1 )\n",
    "        z2 = self.do2( self.fc2(a1) )\n",
    "        z2 = self.bn2( z2 )\n",
    "        a2 = F.relu(z2)\n",
    "        o = self.out(a2)\n",
    "        \n",
    "        return o"
   ]
  },
  {
   "cell_type": "markdown",
   "metadata": {
    "collapsed": true
   },
   "source": [
    "# Initialize our model and DataLoader(s)"
   ]
  },
  {
   "cell_type": "code",
   "execution_count": 250,
   "metadata": {},
   "outputs": [],
   "source": [
    "LEARNING_WEIGHT = 1e-2\n",
    "EPOCHS = 100\n",
    "DECAY_MILESTONES = range(20, EPOCHS, 10)\n",
    "GAMMA=0.1\n",
    "DROP_OUT_PROP = 0.1\n",
    "LAYER_SIZE= (250, 100) # 2 layers\n",
    "WEIGHT_DECAY = 0.01\n",
    "\n",
    "# Reproducibility\n",
    "torch.manual_seed(1)\n",
    "np.random.seed(1)"
   ]
  },
  {
   "cell_type": "code",
   "execution_count": 251,
   "metadata": {},
   "outputs": [],
   "source": [
    "# CUDA for PyTorch\n",
    "use_cuda = torch.cuda.is_available()\n",
    "device = torch.device(\"cuda:0\" if use_cuda else \"cpu\")"
   ]
  },
  {
   "cell_type": "code",
   "execution_count": 252,
   "metadata": {},
   "outputs": [
    {
     "name": "stdout",
     "output_type": "stream",
     "text": [
      "Net(\n",
      "  (layer1): Sequential(\n",
      "    (0): Conv2d(1, 5, kernel_size=(1, 2), stride=(1, 1))\n",
      "    (1): ReLU()\n",
      "  )\n",
      "  (do1): Dropout(p=0.1, inplace=False)\n",
      "  (fc1): Linear(in_features=2615, out_features=250, bias=True)\n",
      "  (bn1): BatchNorm1d(250, eps=1e-05, momentum=0.1, affine=True, track_running_stats=True)\n",
      "  (do2): Dropout(p=0.1, inplace=False)\n",
      "  (fc2): Linear(in_features=250, out_features=100, bias=True)\n",
      "  (bn2): BatchNorm1d(100, eps=1e-05, momentum=0.1, affine=True, track_running_stats=True)\n",
      "  (out): Linear(in_features=100, out_features=1, bias=True)\n",
      ")\n"
     ]
    }
   ],
   "source": [
    "net = Net(ngenes = 523, sz=LAYER_SIZE, do=DROP_OUT_PROP)\n",
    "print(net)"
   ]
  },
  {
   "cell_type": "code",
   "execution_count": 253,
   "metadata": {},
   "outputs": [],
   "source": [
    "# Parameters\n",
    "params = {'batch_size': 128,\n",
    "          'shuffle': True,\n",
    "          'num_workers': 0}\n",
    "\n",
    "train_set = DrugExpressionDataset(label_dict2['beatAML_AUC']['train'])\n",
    "test_set = DrugExpressionDataset(label_dict2['beatAML_AUC']['test'])\n",
    "val_set = DrugExpressionDataset(label_dict2['beatAML_AUC']['val'])\n",
    "\n",
    "train_gen = data.DataLoader(train_set, **params)\n",
    "test_gen = data.DataLoader(test_set, **params)\n",
    "val_gen = data.DataLoader(val_set, **params)"
   ]
  },
  {
   "cell_type": "code",
   "execution_count": 254,
   "metadata": {},
   "outputs": [],
   "source": [
    "optim = torch.optim.AdamW(net.parameters(recurse=True), lr=LEARNING_WEIGHT, weight_decay=WEIGHT_DECAY, amsgrad=True)\n",
    "loss_func = torch.nn.MSELoss()\n",
    "scheduler = torch.optim.lr_scheduler.MultiStepLR(optim, milestones=DECAY_MILESTONES, gamma=GAMMA)"
   ]
  },
  {
   "cell_type": "markdown",
   "metadata": {},
   "source": [
    "# Train our model"
   ]
  },
  {
   "cell_type": "code",
   "execution_count": 255,
   "metadata": {},
   "outputs": [
    {
     "name": "stdout",
     "output_type": "stream",
     "text": [
      "epoch 100/100 \t|\t train total loss: 638741 \t train mse: 42582 \t|\t val mse: 39894 \t\t\t\r"
     ]
    }
   ],
   "source": [
    "recorder={'train':{'total_loss':[], 'mse':[]}, 'val':{'mse':[]}}\n",
    "\n",
    "for epoch in range(EPOCHS):\n",
    "    total_loss = 0\n",
    "    mse = 0\n",
    "    for X,y in train_gen:\n",
    "        X,y = X.to(device, dtype=torch.float), y.to(device, dtype=torch.float)\n",
    "        y = y.unsqueeze(1)\n",
    "        optim.zero_grad()\n",
    "        yhat = net.forward(X)\n",
    "        loss = loss_func(yhat, y)\n",
    "        loss.backward()\n",
    "        optim.step() \n",
    "        scheduler.step()\n",
    "        total_loss += loss.detach().numpy()\n",
    "        \n",
    "    recorder['train']['total_loss'].append(total_loss)\n",
    "    recorder['train']['mse'].append(total_loss/len(train_gen))\n",
    "\n",
    "    val_total_loss = 0\n",
    "    with torch.set_grad_enabled(False):\n",
    "        for X, y in val_gen:\n",
    "            X,y = X.to(device, dtype=torch.float), y.to(device, dtype=torch.float)\n",
    "            y = y.unsqueeze(1)\n",
    "            yhat = net.forward(X)\n",
    "            val_total_loss += loss_func(yhat, y).detach().numpy()\n",
    "        recorder['val']['mse'].append(val_total_loss / len(val_gen))\n",
    "        \n",
    "    print(f'epoch {epoch+1}/{EPOCHS} \\t|\\t train total loss: {int(total_loss)} \\t train mse: {int(total_loss/len(train_gen))} \\t|\\t val mse: {int(val_total_loss / len(val_gen))} \\t\\t\\t', end='\\r')"
   ]
  },
  {
   "cell_type": "markdown",
   "metadata": {},
   "source": [
    "### visualize training "
   ]
  },
  {
   "cell_type": "code",
   "execution_count": 256,
   "metadata": {},
   "outputs": [
    {
     "data": {
      "image/png": "[encoded data removed]",
      "text/plain": [
       "<Figure size 864x576 with 1 Axes>"
      ]
     },
     "metadata": {
      "needs_background": "light"
     },
     "output_type": "display_data"
    }
   ],
   "source": [
    "plt.figure(figsize=(12,8))\n",
    "plt.plot(recorder['train']['mse'], 'r--', label='train mse')\n",
    "plt.plot(recorder['val']['mse'], 'b--', label='val mse')\n",
    "plt.xlabel('Epoch')\n",
    "plt.ylabel('Mean squared error')\n",
    "plt.title('Model training')\n",
    "plt.legend()\n",
    "plt.show()"
   ]
  },
  {
   "cell_type": "code",
   "execution_count": null,
   "metadata": {},
   "outputs": [],
   "source": []
  },
  {
   "cell_type": "markdown",
   "metadata": {},
   "source": [
    "# Test our model\n"
   ]
  },
  {
   "cell_type": "code",
   "execution_count": null,
   "metadata": {},
   "outputs": [],
   "source": [
    "net.eval()\n",
    "test_total_loss = 0\n",
    "yhats = []\n",
    "ys = []\n",
    "for X, y in test_gen:\n",
    "    X,y = X.to(device, dtype=torch.float), y.to(device, dtype=torch.float)\n",
    "    y = y.unsqueeze(1)\n",
    "    yhat = net.forward(X)\n",
    "    val_total_loss += loss_func(yhat, y).detach().numpy()\n",
    "    yhats += yhat.numpy().ravel().tolist()\n",
    "    ys = y.numpy().ravel().tolist()\n",
    "    recorder['test']['mse'] = test\n",
    "    \n",
    "recorder['test']['mse'].append(test_total_loss / len(test_gen))\n",
    "net.train()"
   ]
  },
  {
   "cell_type": "code",
   "execution_count": null,
   "metadata": {},
   "outputs": [],
   "source": []
  },
  {
   "cell_type": "code",
   "execution_count": null,
   "metadata": {},
   "outputs": [],
   "source": []
  },
  {
   "cell_type": "code",
   "execution_count": null,
   "metadata": {},
   "outputs": [],
   "source": []
  },
  {
   "cell_type": "code",
   "execution_count": null,
   "metadata": {},
   "outputs": [],
   "source": []
  }
 ],
 "metadata": {
  "kernelspec": {
   "display_name": "Python 3",
   "language": "python",
   "name": "python3"
  },
  "language_info": {
   "codemirror_mode": {
    "name": "ipython",
    "version": 3
   },
   "file_extension": ".py",
   "mimetype": "text/x-python",
   "name": "python",
   "nbconvert_exporter": "python",
   "pygments_lexer": "ipython3",
   "version": "3.6.9"
  }
 },
 "nbformat": 4,
 "nbformat_minor": 2
}

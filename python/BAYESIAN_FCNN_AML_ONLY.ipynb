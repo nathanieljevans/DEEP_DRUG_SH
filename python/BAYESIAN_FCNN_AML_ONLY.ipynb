{
 "cells": [
  {
   "cell_type": "markdown",
   "metadata": {},
   "source": [
    "# Model 2: Bayesian Neural Network\n",
    "\n",
    "### Quantifying uncertainty to improve prediction accuracy \n",
    "\n",
    "This model will be built using **only** beatAML data to predict AUC, however, this time we will use a bayesian neural network. "
   ]
  },
  {
   "cell_type": "code",
   "execution_count": 1,
   "metadata": {},
   "outputs": [],
   "source": [
    "import torch\n",
    "import torch.nn as nn\n",
    "import torch.nn.functional as F\n",
    "import os\n",
    "import torch\n",
    "import pandas as pd\n",
    "from skimage import io, transform\n",
    "import numpy as np\n",
    "import matplotlib.pyplot as plt\n",
    "from torch.utils.data import Dataset, DataLoader\n",
    "from torchvision import transforms, utils\n",
    "import pickle\n",
    "from torch.utils import data\n",
    "from matplotlib import pyplot as plt\n",
    "import pandas as pd\n",
    "import imageio\n",
    "\n",
    "import torchvision\n",
    "from torchvision import datasets, transforms\n",
    "from matplotlib import colors\n",
    "from IPython import display\n",
    "\n",
    "import pyro\n",
    "from pyro.distributions import Normal, Categorical, Uniform\n",
    "from pyro.infer import SVI, Trace_ELBO\n",
    "from pyro.optim import Adam"
   ]
  },
  {
   "cell_type": "markdown",
   "metadata": {},
   "source": [
    "# Utilities "
   ]
  },
  {
   "cell_type": "code",
   "execution_count": 2,
   "metadata": {},
   "outputs": [],
   "source": [
    "# plot and show learning process\n",
    "#from : https://medium.com/@benjamin.phillips22/simple-regression-with-neural-networks-in-pytorch-313f06910379\n",
    "\n",
    "def plot_learning_process(axes, tr_ys, tr_yhats, tst_ys, tst_yhats, epoch, tr_loss, tst_loss):\n",
    "\n",
    "    axes[0].cla()\n",
    "    \n",
    "    ######### TRAIN #########\n",
    "    tr_df = pd.DataFrame({'y':tr_ys, 'yhat':tr_yhats})\n",
    "    tr_df.sort_values(by='y', inplace=True)\n",
    "    \n",
    "    axes[0].plot(tr_df.values[:,0], 'ro', label='true', alpha=0.5)\n",
    "    axes[0].plot(tr_df.values[:,1], 'bo', label='predicted', alpha=0.5)\n",
    "    #plt.legend()\n",
    "    \n",
    "    axes[0].set_title('Regression Analysis [Training Set]', fontsize=15)\n",
    "    axes[0].set_xlabel('Sorted observations', fontsize=24)\n",
    "    axes[0].set_ylabel('AUC', fontsize=24)\n",
    "\n",
    "    axes[0].text(100, 30, 'Epoch = %d' % epoch, fontdict={'size': 24, 'color':  'red'})\n",
    "    axes[0].text(100, 50, 'Loss = %.4f' % loss, fontdict={'size': 24, 'color':  'red'})\n",
    "\n",
    "    ######### TEST #########\n",
    "    \n",
    "    axes[1].cla()\n",
    "    \n",
    "    tst_df = pd.DataFrame({'y':tst_ys, 'yhat':tst_yhats})\n",
    "    tst_df.sort_values(by='y', inplace=True)\n",
    "    \n",
    "    axes[1].plot(tst_df.values[:,0], 'ro', label='true', alpha=0.5)\n",
    "    axes[1].plot(tst_df.values[:,1], 'bo', label='predicted', alpha=0.5)\n",
    "    plt.legend()\n",
    "    \n",
    "    axes[1].set_title('Regression Analysis [Validation Set]', fontsize=15)\n",
    "    axes[1].set_xlabel('Sorted observations', fontsize=24)\n",
    "    axes[1].set_ylabel('AUC', fontsize=24)\n",
    "\n",
    "    axes[1].text(100, 30, 'Epoch = %d' % epoch, fontdict={'size': 24, 'color':  'red'})\n",
    "    axes[1].text(100, 50, 'Loss = %.4f' % loss, fontdict={'size': 24, 'color':  'red'})\n",
    "\n",
    "    ######## DA REST #############\n",
    "    \n",
    "    # Used to return the plot as an image array \n",
    "    # (https://ndres.me/post/matplotlib-animated-gifs-easily/)\n",
    "    fig.canvas.draw()       # draw the canvas, cache the renderer\n",
    "    image = np.frombuffer(fig.canvas.tostring_rgb(), dtype='uint8')\n",
    "    image  = image.reshape(fig.canvas.get_width_height()[::-1] + (3,))\n",
    "\n",
    "    return image\n",
    "\n",
    "class saver_and_early_stopping: \n",
    "    '''\n",
    "    '''\n",
    "    def __init__(self, max_epoch, lr, do, arch, wd, name='FCNN-AML', early_stop_patience = 10, save_path='../data_pytorch/'):\n",
    "        ''''''\n",
    "        self.lr = lr\n",
    "        self.do = do\n",
    "        self.arch = arch\n",
    "        self.wd = wd \n",
    "        self.name = name \n",
    "        self.loss = np.inf \n",
    "        self.ii = 0\n",
    "        self.patience = early_stop_patience\n",
    "        self.max_epoch = max_epoch\n",
    "        \n",
    "        if not os.path.exists(save_path + 'model_' + name):\n",
    "            os.mkdir(save_path + 'model_' + name)\n",
    "            \n",
    "        self.fpath = save_path + 'model_' + name\n",
    "        \n",
    "    def update(self, loss, epoch, model):\n",
    "        '''\n",
    "        '''\n",
    "        if epoch == (self.max_epoch - 1):\n",
    "            torch.save(model.state_dict(), self.fpath + f'/loss={self.loss:.2f}_epoch={epoch}_lr={self.lr}_do={self.do}_arch={self.arch}_wd={self.wd}.pt')\n",
    "            self.fname = self.fpath + f'/loss={self.loss}_epoch={epoch}_lr={self.lr}_do={self.do}_arch={self.arch}_wd={self.wd}'\n",
    "            return True\n",
    "        if self.ii > self.patience: \n",
    "            torch.save(model.state_dict(), self.fpath + f'/loss={self.loss:.2f}_epoch={epoch}_lr={self.lr}_do={self.do}_arch={self.arch}_wd={self.wd}.pt')\n",
    "            self.fname = self.fpath + f'/loss={self.loss}_epoch={epoch}_lr={self.lr}_do={self.do}_arch={self.arch}_wd={self.wd}'\n",
    "            return False\n",
    "        if loss < self.loss: \n",
    "            self.loss = loss \n",
    "            self.ii = 0\n",
    "        else:\n",
    "            self.ii += 1\n",
    "        return True\n",
    "    \n",
    "    def get_fname(self): \n",
    "        ''''''\n",
    "        return self.fname"
   ]
  },
  {
   "cell_type": "markdown",
   "metadata": {},
   "source": [
    "# Define our Dataset Class "
   ]
  },
  {
   "cell_type": "code",
   "execution_count": 3,
   "metadata": {},
   "outputs": [],
   "source": [
    "class DrugExpressionDataset(Dataset): \n",
    "    '''\n",
    "    '''\n",
    "    def __init__ (self, label_dict, root_dir='../data_pytorch/tensors'): \n",
    "        '''\n",
    "        '''\n",
    "        self.index = list(label_dict.keys())\n",
    "        self.labels = label_dict\n",
    "        self.root = root_dir\n",
    "                            \n",
    "    def __len__(self):\n",
    "        '''\n",
    "        '''\n",
    "        return len(self.labels.keys())\n",
    "        \n",
    "    def __getitem__(self, index, response_type=False):\n",
    "        '''\n",
    "        '''\n",
    "        fid = self.index[index]\n",
    "        X = torch.load(f'{self.root}/{fid}.pt') #<----------------------------- number of genes to use\n",
    "        _id, id_type, resp_type, response = self.labels[fid]\n",
    "        \n",
    "        if response_type: \n",
    "            return X, (response, resp_type)\n",
    "        else: \n",
    "            return X, response"
   ]
  },
  {
   "cell_type": "markdown",
   "metadata": {},
   "source": [
    "# Separate data into train/test/validate "
   ]
  },
  {
   "cell_type": "code",
   "execution_count": 4,
   "metadata": {},
   "outputs": [],
   "source": [
    "train, test, val = (0.65,0.2,0.15)\n",
    "\n",
    "with open('../data_pytorch/label_dict.pkl', 'rb') as f: \n",
    "    label_dict = pickle.load(f)\n",
    "\n",
    "label_dict2 = dict()\n",
    "for fid in label_dict: \n",
    "    _id, id_type, resp_type, response = label_dict[fid]\n",
    "    \n",
    "    if resp_type not in label_dict2: \n",
    "        label_dict2[resp_type] = dict()\n",
    "        \n",
    "    p = np.random.rand()\n",
    "    if (p < train): # add to training set \n",
    "        if 'train' in label_dict2[resp_type]: \n",
    "            label_dict2[resp_type]['train'][fid] = (_id, id_type, resp_type, response)\n",
    "        else:\n",
    "            label_dict2[resp_type]['train'] = {fid:(_id, id_type, resp_type, response)}\n",
    "\n",
    "    elif (p < train+test): # add to test set \n",
    "        if 'test' in label_dict2[resp_type]: \n",
    "            label_dict2[resp_type]['test'][fid] = (_id, id_type, resp_type, response)\n",
    "        else:\n",
    "            label_dict2[resp_type]['test'] = {fid:(_id, id_type, resp_type, response)}\n",
    "    else: # add to validation set \n",
    "        if 'val' in label_dict2[resp_type]: \n",
    "            label_dict2[resp_type]['val'][fid] = (_id, id_type, resp_type, response)\n",
    "        else:\n",
    "            label_dict2[resp_type]['val'] = {fid:(_id, id_type, resp_type, response)}            "
   ]
  },
  {
   "cell_type": "code",
   "execution_count": 5,
   "metadata": {},
   "outputs": [
    {
     "data": {
      "text/plain": [
       "dict_keys(['RNAi_dependency', 'crispr_dependency', 'pooled_drugresp_prism', 'AUC_GDSC', 'CTRP_AUC', 'AUC_drug_CCLE', 'beatAML_AUC'])"
      ]
     },
     "execution_count": 5,
     "metadata": {},
     "output_type": "execute_result"
    }
   ],
   "source": [
    "label_dict2.keys()"
   ]
  },
  {
   "cell_type": "code",
   "execution_count": 6,
   "metadata": {},
   "outputs": [
    {
     "name": "stdout",
     "output_type": "stream",
     "text": [
      "set sizes: RNAi_dependency      \t-> train  \t-> 186006\n",
      "set sizes: RNAi_dependency      \t-> test  \t-> 57386\n",
      "set sizes: RNAi_dependency      \t-> val  \t-> 43147\n",
      "set sizes: crispr_dependency    \t-> train  \t-> 201481\n",
      "set sizes: crispr_dependency    \t-> val  \t-> 46868\n",
      "set sizes: crispr_dependency    \t-> test  \t-> 62619\n",
      "set sizes: pooled_drugresp_prism \t-> train  \t-> 99089\n",
      "set sizes: pooled_drugresp_prism \t-> test  \t-> 30317\n",
      "set sizes: pooled_drugresp_prism \t-> val  \t-> 23021\n",
      "set sizes: AUC_GDSC             \t-> train  \t-> 10863\n",
      "set sizes: AUC_GDSC             \t-> test  \t-> 3308\n",
      "set sizes: AUC_GDSC             \t-> val  \t-> 2493\n",
      "set sizes: CTRP_AUC             \t-> train  \t-> 17970\n",
      "set sizes: CTRP_AUC             \t-> test  \t-> 5566\n",
      "set sizes: CTRP_AUC             \t-> val  \t-> 4094\n",
      "set sizes: AUC_drug_CCLE        \t-> train  \t-> 1444\n",
      "set sizes: AUC_drug_CCLE        \t-> val  \t-> 334\n",
      "set sizes: AUC_drug_CCLE        \t-> test  \t-> 505\n",
      "set sizes: beatAML_AUC          \t-> train  \t-> 1123\n",
      "set sizes: beatAML_AUC          \t-> test  \t-> 345\n",
      "set sizes: beatAML_AUC          \t-> val  \t-> 281\n"
     ]
    }
   ],
   "source": [
    "for resp_type in label_dict2:\n",
    "    for sset in label_dict2[resp_type]: \n",
    "        pp = resp_type + ' '*(20 - len(resp_type))\n",
    "        print(f'set sizes: {pp} \\t-> {sset}  \\t-> {len(label_dict2[resp_type][sset])}')"
   ]
  },
  {
   "cell_type": "code",
   "execution_count": 7,
   "metadata": {},
   "outputs": [
    {
     "data": {
      "text/plain": [
       "798259"
      ]
     },
     "execution_count": 7,
     "metadata": {},
     "output_type": "execute_result"
    }
   ],
   "source": [
    "max(label_dict.keys())"
   ]
  },
  {
   "cell_type": "markdown",
   "metadata": {},
   "source": [
    "# Defining our model architecture \n",
    "\n",
    "Going to use a straight forward 4 layer FFFC network. "
   ]
  },
  {
   "cell_type": "code",
   "execution_count": 8,
   "metadata": {},
   "outputs": [],
   "source": [
    "class BNN(nn.Module):\n",
    "    \n",
    "    def __init__(self, input_size, hidden_size, output_size):\n",
    "        super(BNN, self).__init__()\n",
    "        self.fc1 = nn.Linear(input_size, hidden_size)\n",
    "        self.out = nn.Linear(hidden_size, output_size)\n",
    "        \n",
    "    def forward(self, x):\n",
    "        x = x.unsqueeze(1)\n",
    "        x = x.reshape(x.size(0), -1)\n",
    "        output = self.fc1(x)\n",
    "        output = F.relu(output)\n",
    "        output = self.out(output)\n",
    "        return output"
   ]
  },
  {
   "cell_type": "code",
   "execution_count": 9,
   "metadata": {},
   "outputs": [],
   "source": [
    "log_softmax = nn.LogSoftmax(dim=1)\n",
    "def model(x_data, y_data):\n",
    "    \n",
    "    fc1w_prior = Normal(loc=torch.zeros_like(net.fc1.weight), scale=torch.ones_like(net.fc1.weight))\n",
    "    fc1b_prior = Normal(loc=torch.zeros_like(net.fc1.bias), scale=torch.ones_like(net.fc1.bias))\n",
    "    \n",
    "    outw_prior = Normal(loc=torch.zeros_like(net.out.weight), scale=torch.ones_like(net.out.weight))\n",
    "    outb_prior = Normal(loc=torch.zeros_like(net.out.bias), scale=torch.ones_like(net.out.bias))\n",
    "    \n",
    "    priors = {'fc1.weight': fc1w_prior, 'fc1.bias': fc1b_prior,  'out.weight': outw_prior, 'out.bias': outb_prior}\n",
    "    # lift module parameters to random variables sampled from the priors\n",
    "    lifted_module = pyro.random_module(\"module\", net, priors)\n",
    "    # sample a regressor (which also samples w and b)\n",
    "    lifted_reg_model = lifted_module()\n",
    "    \n",
    "    mean = lifted_reg_model(x_data)\n",
    "    sigma = pyro.sample(\"sigma\", Uniform(0., 10.))\n",
    "    \n",
    "    pyro.sample(\"obs\", Normal(mean, sigma), obs=y_data)"
   ]
  },
  {
   "cell_type": "code",
   "execution_count": 10,
   "metadata": {},
   "outputs": [],
   "source": [
    "softplus = torch.nn.Softplus()\n",
    "\n",
    "def guide(x_data, y_data):\n",
    "    \n",
    "    # First layer weight distribution priors\n",
    "    fc1w_mu = torch.randn_like(net.fc1.weight)\n",
    "    fc1w_sigma = torch.randn_like(net.fc1.weight)\n",
    "    fc1w_mu_param = pyro.param(\"fc1w_mu\", fc1w_mu)\n",
    "    fc1w_sigma_param = softplus(pyro.param(\"fc1w_sigma\", fc1w_sigma))\n",
    "    fc1w_prior = Normal(loc=fc1w_mu_param, scale=fc1w_sigma_param)\n",
    "    # First layer bias distribution priors\n",
    "    fc1b_mu = torch.randn_like(net.fc1.bias)\n",
    "    fc1b_sigma = torch.randn_like(net.fc1.bias)\n",
    "    fc1b_mu_param = pyro.param(\"fc1b_mu\", fc1b_mu)\n",
    "    fc1b_sigma_param = softplus(pyro.param(\"fc1b_sigma\", fc1b_sigma))\n",
    "    fc1b_prior = Normal(loc=fc1b_mu_param, scale=fc1b_sigma_param)\n",
    "    # Output layer weight distribution priors\n",
    "    outw_mu = torch.randn_like(net.out.weight)\n",
    "    outw_sigma = torch.randn_like(net.out.weight)\n",
    "    outw_mu_param = pyro.param(\"outw_mu\", outw_mu)\n",
    "    outw_sigma_param = softplus(pyro.param(\"outw_sigma\", outw_sigma))\n",
    "    outw_prior = Normal(loc=outw_mu_param, scale=outw_sigma_param).independent(1)\n",
    "    # Output layer bias distribution priors\n",
    "    outb_mu = torch.randn_like(net.out.bias)\n",
    "    outb_sigma = torch.randn_like(net.out.bias)\n",
    "    outb_mu_param = pyro.param(\"outb_mu\", outb_mu)\n",
    "    outb_sigma_param = softplus(pyro.param(\"outb_sigma\", outb_sigma))\n",
    "    outb_prior = Normal(loc=outb_mu_param, scale=outb_sigma_param)\n",
    "    priors = {'fc1.weight': fc1w_prior, 'fc1.bias': fc1b_prior, 'out.weight': outw_prior, 'out.bias': outb_prior}\n",
    "    \n",
    "    lifted_module = pyro.random_module(\"module\", net, priors)\n",
    "    \n",
    "    return lifted_module()"
   ]
  },
  {
   "cell_type": "markdown",
   "metadata": {
    "collapsed": true
   },
   "source": [
    "# Initialize our model and DataLoader(s)"
   ]
  },
  {
   "cell_type": "code",
   "execution_count": 29,
   "metadata": {},
   "outputs": [],
   "source": [
    "LEARNING_WEIGHT = 1e-1\n",
    "EPOCHS = 10\n",
    "NGENES = 523 #/523\n",
    "\n",
    "# Reproducibility\n",
    "#torch.manual_seed(2)\n",
    "#np.random.seed(2)"
   ]
  },
  {
   "cell_type": "code",
   "execution_count": 30,
   "metadata": {},
   "outputs": [],
   "source": [
    "# CUDA for PyTorch\n",
    "use_cuda = torch.cuda.is_available()\n",
    "device = torch.device(\"cuda:0\" if use_cuda else \"cpu\")"
   ]
  },
  {
   "cell_type": "code",
   "execution_count": 31,
   "metadata": {},
   "outputs": [],
   "source": [
    "net = BNN(NGENES*2, 2000, 1)\n"
   ]
  },
  {
   "cell_type": "code",
   "execution_count": 32,
   "metadata": {},
   "outputs": [],
   "source": [
    "# Parameters\n",
    "params = {'batch_size': 128*4,\n",
    "          'shuffle': True,\n",
    "          'num_workers': 0}\n",
    "\n",
    "train_set = DrugExpressionDataset(label_dict2['beatAML_AUC']['train'])\n",
    "test_set = DrugExpressionDataset(label_dict2['beatAML_AUC']['test'])\n",
    "val_set = DrugExpressionDataset(label_dict2['beatAML_AUC']['val'])\n",
    "\n",
    "train_gen = data.DataLoader(train_set, **params)\n",
    "test_gen = data.DataLoader(test_set, **params)\n",
    "val_gen = data.DataLoader(val_set, **params)"
   ]
  },
  {
   "cell_type": "code",
   "execution_count": 33,
   "metadata": {},
   "outputs": [],
   "source": [
    "optim = pyro.optim.Adam({\"lr\": LEARNING_WEIGHT})\n",
    "svi = SVI(model, guide, optim, loss=Trace_ELBO())"
   ]
  },
  {
   "cell_type": "markdown",
   "metadata": {},
   "source": [
    "# Train our model"
   ]
  },
  {
   "cell_type": "code",
   "execution_count": 34,
   "metadata": {},
   "outputs": [
    {
     "name": "stdout",
     "output_type": "stream",
     "text": [
      "epoch 10/10 \t|\t train total loss: 5509433005.85 \t train elbo: 4905995.55 \t\t \t \t\r"
     ]
    }
   ],
   "source": [
    "recorder={'train':{'total_loss':[], 'mse':[]}}\n",
    "\n",
    "for epoch in range(EPOCHS):\n",
    "    net.train()\n",
    "    total_loss = 0\n",
    "    elbo = 0\n",
    "    for X,y in train_gen:\n",
    "        y = y.unsqueeze(1)\n",
    "        X,y = X.to(device, dtype=torch.float), y.to(device, dtype=torch.float)\n",
    "        loss = svi.step(X, y)\n",
    "        total_loss += loss\n",
    "        \n",
    "    recorder['train']['total_loss'].append(total_loss)\n",
    "    recorder['train']['mse'].append(total_loss/len(train_gen.dataset))\n",
    "\n",
    "    print(f'epoch {epoch+1}/{EPOCHS} \\t|\\t train total loss: {total_loss:.2f} \\t train elbo: {total_loss/len(train_gen.dataset):.2f} \\t', end='\\r')\n"
   ]
  },
  {
   "cell_type": "markdown",
   "metadata": {},
   "source": [
    "### visualize training "
   ]
  },
  {
   "cell_type": "code",
   "execution_count": 35,
   "metadata": {},
   "outputs": [
    {
     "data": {
      "image/png": "[encoded data removed]",
      "text/plain": [
       "<Figure size 864x576 with 1 Axes>"
      ]
     },
     "metadata": {
      "needs_background": "light"
     },
     "output_type": "display_data"
    }
   ],
   "source": [
    "plt.figure(figsize=(12,8))\n",
    "plt.plot(np.log10(recorder['train']['mse']), 'r--', label='train mse')\n",
    "plt.xlabel('Epoch')\n",
    "plt.ylabel('Mean squared error')\n",
    "plt.title('Model training')\n",
    "plt.legend()\n",
    "plt.show()"
   ]
  },
  {
   "cell_type": "markdown",
   "metadata": {},
   "source": [
    "# Test our model"
   ]
  },
  {
   "cell_type": "code",
   "execution_count": null,
   "metadata": {},
   "outputs": [],
   "source": [
    "net.eval()\n",
    "test_total_loss = 0\n",
    "yhats = []\n",
    "ys = []\n",
    "for X, y in test_gen:\n",
    "    X,y = X.to(device, dtype=torch.float), y.to(device, dtype=torch.float)\n",
    "    y = y.unsqueeze(1)\n",
    "    yhat = net.forward(X)\n",
    "    test_total_loss += loss_func(yhat, y).detach().numpy()\n",
    "    yhats += yhat.data.numpy().ravel().tolist()\n",
    "    ys += y.data.numpy().ravel().tolist()\n",
    "\n",
    "net.train()\n",
    "\n",
    "print(f'test mse: {test_total_loss/len(test_gen.dataset)}')"
   ]
  },
  {
   "cell_type": "code",
   "execution_count": null,
   "metadata": {},
   "outputs": [],
   "source": [
    "df = pd.DataFrame({'y':ys, 'yhat':yhats}).assign(diff = lambda x: np.max(x.y) * (x.y-x.yhat)**2 / np.max((x.y-x.yhat)**2))\n",
    "\n",
    "df.sort_values(by='y', inplace=True)\n",
    "\n",
    "df = df.assign(diff_rm = df['diff'].rolling(window=10).mean())\n",
    "\n",
    "plt.figure(figsize=(12,8))\n",
    "plt.plot(df['y'].values, 'ro', label='y [true]')\n",
    "plt.plot(df['yhat'].values, 'bo', label='yhat [predicted]')\n",
    "plt.plot(df['diff_rm'].values, 'g--', label='scaled rolling mean quadratic error')\n",
    "plt.xlabel('Sorted Observations')\n",
    "plt.ylabel('Area Under the Curve (AUC)')\n",
    "plt.title(f'BeatAML FCNN Test Set Predictions [n={len(test_gen.dataset)}]')\n",
    "plt.legend()\n",
    "plt.show()\n"
   ]
  },
  {
   "cell_type": "code",
   "execution_count": null,
   "metadata": {},
   "outputs": [],
   "source": []
  },
  {
   "cell_type": "code",
   "execution_count": null,
   "metadata": {},
   "outputs": [],
   "source": []
  },
  {
   "cell_type": "code",
   "execution_count": null,
   "metadata": {},
   "outputs": [],
   "source": []
  }
 ],
 "metadata": {
  "kernelspec": {
   "display_name": "Python 3",
   "language": "python",
   "name": "python3"
  },
  "language_info": {
   "codemirror_mode": {
    "name": "ipython",
    "version": 3
   },
   "file_extension": ".py",
   "mimetype": "text/x-python",
   "name": "python",
   "nbconvert_exporter": "python",
   "pygments_lexer": "ipython3",
   "version": "3.6.9"
  }
 },
 "nbformat": 4,
 "nbformat_minor": 2
}
